{
 "cells": [
  {
   "cell_type": "markdown",
   "metadata": {},
   "source": [
    "# Chapter 5 (Aug 14, 2018-)"
   ]
  },
  {
   "cell_type": "code",
   "execution_count": 3,
   "metadata": {},
   "outputs": [
    {
     "data": {
      "text/plain": [
       "str"
      ]
     },
     "execution_count": 3,
     "metadata": {},
     "output_type": "execute_result"
    }
   ],
   "source": [
    "'abc'.__class__"
   ]
  },
  {
   "cell_type": "code",
   "execution_count": 4,
   "metadata": {},
   "outputs": [
    {
     "data": {
      "text/plain": [
       "list"
      ]
     },
     "execution_count": 4,
     "metadata": {},
     "output_type": "execute_result"
    }
   ],
   "source": [
    "[1].__class__"
   ]
  },
  {
   "cell_type": "code",
   "execution_count": 5,
   "metadata": {},
   "outputs": [
    {
     "data": {
      "text/plain": [
       "float"
      ]
     },
     "execution_count": 5,
     "metadata": {},
     "output_type": "execute_result"
    }
   ],
   "source": [
    "12.34.__class__"
   ]
  },
  {
   "cell_type": "markdown",
   "metadata": {},
   "source": [
    "## Defining classes"
   ]
  },
  {
   "cell_type": "code",
   "execution_count": 25,
   "metadata": {
    "scrolled": true
   },
   "outputs": [
    {
     "name": "stdout",
     "output_type": "stream",
     "text": [
      "Convert inches to mm\n",
      "converting 2 inchches\n",
      "50mm\n",
      "start silly converter\n",
      "Convert apple to grapes\n"
     ]
    },
    {
     "data": {
      "text/plain": [
       "222"
      ]
     },
     "execution_count": 25,
     "metadata": {},
     "output_type": "execute_result"
    }
   ],
   "source": [
    "#05_01_converter\n",
    "class ScaleConverter:\n",
    "    def __init__(self, units_from, units_to, factor):\n",
    "        self.units_from = units_from\n",
    "        self.units_to = units_to\n",
    "        self.factor = factor\n",
    "        \n",
    "    def description(self):\n",
    "        return 'Convert ' + self.units_from + ' to ' + self.units_to\n",
    "    \n",
    "    def convert(self, value):\n",
    "        return value * self.factor\n",
    "\n",
    "    \n",
    "c1 = ScaleConverter('inches', 'mm', 25)\n",
    "print(c1.description())\n",
    "print('converting 2 inchches')\n",
    "print(str(c1.convert(2)) + c1.units_to)\n",
    "# silly converter\n",
    "print('start silly converter')\n",
    "silly_converter=ScaleConverter('apple','grapes',74)\n",
    "print(silly_converter.description())\n",
    "silly_converter.convert(3)\n"
   ]
  },
  {
   "cell_type": "markdown",
   "metadata": {},
   "source": [
    "## Inheritance"
   ]
  },
  {
   "cell_type": "code",
   "execution_count": 26,
   "metadata": {},
   "outputs": [
    {
     "name": "stdout",
     "output_type": "stream",
     "text": [
      "Convert C to F\n",
      "converting 20C\n",
      "68.0F\n"
     ]
    }
   ],
   "source": [
    "# 05_02_converter_offset_bad\n",
    "class ScaleAndOffsetConverter:\n",
    "    def __init__(self,units_from,units_to,factor,offset):\n",
    "        self.units_from=units_from\n",
    "        self.units_to = units_to\n",
    "        self.factor = factor\n",
    "        self.offset = offset\n",
    "        \n",
    "    def descripiton(self):\n",
    "        return 'Convert ' + self.units_from + ' to ' + self.units_to\n",
    "    \n",
    "    def convert(self, value):\n",
    "        return value * self.factor + self.offset\n",
    "    \n",
    "c2=ScaleAndOffsetConverter('C','F',1.8,32)\n",
    "print(c2.descripiton())\n",
    "print('converting 20C')\n",
    "print(str(c2.convert(20)) + c2.units_to)"
   ]
  },
  {
   "cell_type": "markdown",
   "metadata": {},
   "source": [
    "The idea behind inheritance in classes is that when you want a specialized version of a class that already exists, you inherit all the parent class’s variables and methods and just add new ones or override the ones that are different. (cited from Monk, Simon. Programming the Raspberry Pi, Second Edition: Getting Started with Python (Kindle Locations 1012-1013). McGraw-Hill Education. Kindle Edition. )"
   ]
  },
  {
   "cell_type": "code",
   "execution_count": 30,
   "metadata": {},
   "outputs": [
    {
     "name": "stdout",
     "output_type": "stream",
     "text": [
      "converting 20C\n",
      "68.0F\n"
     ]
    }
   ],
   "source": [
    "class ScaleAndOffsetConverter(ScaleConverter):\n",
    "    def __init__(self,units_from,units_to,factor,offset):\n",
    "        ScaleConverter.__init__(self,units_from,units_to,factor)\n",
    "        self.offset = offset\n",
    "        \n",
    "    def convert(self, value):\n",
    "        return value * self.factor + self.offset\n",
    "    \n",
    "c2=ScaleAndOffsetConverter('C','F',1.8,32)\n",
    "#print(c2.descripiton()) # error\n",
    "print('converting 20C')\n",
    "print(str(c2.convert(20)) + c2.units_to)\n",
    "    "
   ]
  },
  {
   "cell_type": "code",
   "execution_count": 28,
   "metadata": {},
   "outputs": [
    {
     "name": "stdout",
     "output_type": "stream",
     "text": [
      "Convert inches to mm\n",
      "converting 2 inchches\n",
      "50mm\n"
     ]
    }
   ],
   "source": [
    "c1 = ScaleConverter('inches', 'mm', 25)\n",
    "print(c1.description())\n",
    "print('converting 2 inchches')\n",
    "print(str(c1.convert(2)) + c1.units_to)"
   ]
  },
  {
   "cell_type": "markdown",
   "metadata": {},
   "source": [
    "# Turn this into a module\n",
    "Making a separate notebook and write code. \n",
    "Download as \"Python\" in the same directory."
   ]
  },
  {
   "cell_type": "code",
   "execution_count": 36,
   "metadata": {},
   "outputs": [
    {
     "name": "stdout",
     "output_type": "stream",
     "text": [
      "Convert inches to mm\n",
      "converting 2 inches\n",
      "50.8mm\n"
     ]
    }
   ],
   "source": [
    "import converters\n",
    "c1=converters.ScaleConverter('inches','mm',25.4)\n",
    "print(c1.description())\n",
    "print('converting 2 inches')\n",
    "print(str(c1.convert(2))+c1.units_to)\n"
   ]
  },
  {
   "cell_type": "markdown",
   "metadata": {},
   "source": [
    "# my own Qs\n",
    "1. How to look what are inherited? (see https://stackoverflow.com/questions/5628084/test-if-a-class-is-inherited-from-another for answer)"
   ]
  },
  {
   "cell_type": "code",
   "execution_count": 39,
   "metadata": {},
   "outputs": [
    {
     "data": {
      "text/plain": [
       "True"
      ]
     },
     "execution_count": 39,
     "metadata": {},
     "output_type": "execute_result"
    }
   ],
   "source": [
    "issubclass(ScaleAndOffsetConverter, ScaleConverter)"
   ]
  },
  {
   "cell_type": "code",
   "execution_count": null,
   "metadata": {
    "collapsed": true
   },
   "outputs": [],
   "source": [
    "issubclass(ScaleAndOffsetConverter, ScaleConverter)"
   ]
  }
 ],
 "metadata": {
  "kernelspec": {
   "display_name": "Python 3",
   "language": "python",
   "name": "python3"
  },
  "language_info": {
   "codemirror_mode": {
    "name": "ipython",
    "version": 3
   },
   "file_extension": ".py",
   "mimetype": "text/x-python",
   "name": "python",
   "nbconvert_exporter": "python",
   "pygments_lexer": "ipython3",
   "version": "3.6.0"
  }
 },
 "nbformat": 4,
 "nbformat_minor": 2
}
